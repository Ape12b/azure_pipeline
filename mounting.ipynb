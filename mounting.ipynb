{
 "cells": [
  {
   "cell_type": "markdown",
   "metadata": {},
   "source": [
    "To mount an Azure Storage account to Azure Databricks, you can use the Databricks dbutils library, which provides utilities for file and mount operations. Below is an example Python script that demonstrates how to mount an Azure Storage account to Azure Databricks:"
   ]
  },
  {
   "cell_type": "code",
   "execution_count": null,
   "metadata": {},
   "outputs": [],
   "source": [
    "storage_account_name = \"your_storage_account_name\"\n",
    "container_name = \"your_container_name\"\n",
    "adlsFolderName=\"Data\"\n",
    "mountPoint=\"/mnt/Files/Validated\"\n",
    "\n",
    "# Application (Client) ID\n",
    "applicationId=dbutils.secrets.get(scope=\"key_vault_name\", key=\"clientid\")\n",
    "# Application (Client) Secret Key\n",
    "authenticationkey=dbutils.secrets.get(scope=\"key_vault_name\", key=\"clientsecret\")\n",
    "#Directory (Tenant) ID\n",
    "tenandId=dbutils.secrets.get(scope=\"key_vault_name\", key=\"tenantid\")\n",
    "\n",
    "endpoint=\"https://login.microsoftonline.com/\"+tenandId+\"/oauth2/token\"\n",
    "source=\"abfss://\"+container_name+\"@\"+storage_account_name+\".dfs.core.windows.net/\"+adlsFolderName\n",
    "\n",
    "# Connecting using Service Principal secrets and OAuth\n",
    "configs={\"fs.azure.account.auth.type\": \"OAuth\",\n",
    "\"fs.azure.account.oauth.provider.type\": \"org.apache.hadoop.fs.azurebfs.oauth2.ClientCredsTokenProvider\", \n",
    "\"fs.azure.account.oauth2.client.id\": applicationId,\n",
    "\"fs.azure.account.oauth2.client.secret\": authenticationkey,\n",
    "\"fs.azure.account.oauth2.client.endpoint\": endpoint}"
   ]
  },
  {
   "cell_type": "markdown",
   "metadata": {},
   "source": [
    "Note:\n",
    "\n",
    "Replace \"your_storage_account_name\", \"your_container_name\", and \"your_sas_token\" with your actual Azure Storage account, container, and SAS token information.\n",
    "Adjust the mount_point variable to specify the desired mount point in Azure Databricks.\n",
    "The connection_string variable is constructed to use the SAS token for authentication.\n",
    "To run this script in Azure Databricks, you can either upload it as a Python file or copy and paste it into a Databricks notebook. Ensure that your Databricks cluster has the required libraries and configurations to access Azure Storage.\n",
    "\n",
    "This script uses the dbutils.fs.mount function to mount the Azure Storage account to the specified mount point. After running the script, you should be able to access the mounted storage account in Databricks using the specified mount point."
   ]
  }
 ],
 "metadata": {
  "language_info": {
   "name": "python"
  }
 },
 "nbformat": 4,
 "nbformat_minor": 2
}
